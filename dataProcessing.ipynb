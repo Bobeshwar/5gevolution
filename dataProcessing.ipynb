{
 "cells": [
  {
   "cell_type": "code",
   "execution_count": 1,
   "metadata": {},
   "outputs": [],
   "source": [
    "import os\n",
    "import pandas as pd"
   ]
  },
  {
   "cell_type": "code",
   "execution_count": 12,
   "metadata": {},
   "outputs": [],
   "source": [
    "Phone1Files = []\n",
    "Phone2Files = []\n",
    "\n",
    "for root, dirs, files in os.walk(\"./data\"):\n",
    "    for name in files:\n",
    "        fpath = os.path.join(root, name)\n",
    "        if name.find(\"Phone_1\") != -1:\n",
    "            Phone1Files.append(fpath)\n",
    "        else:\n",
    "            Phone2Files.append(fpath)"
   ]
  },
  {
   "cell_type": "code",
   "execution_count": 63,
   "metadata": {},
   "outputs": [
    {
     "name": "stderr",
     "output_type": "stream",
     "text": [
      "/tmp/ipykernel_7048/2561763531.py:1: DtypeWarning: Columns (186,189,190,197,223,236,240,243,244,251,276,280,283,284,291,314,317,318,325,338,351,355,358,359,366,388) have mixed types. Specify dtype option on import or set low_memory=False.\n",
      "  phone1df = pd.read_csv(Phone1Files[1])\n"
     ]
    }
   ],
   "source": [
    "phone1df = pd.read_csv(Phone1Files[1])\n",
    "phone1df.drop(phone1df.tail(8).index, inplace=True) #Removing aggregate Statistics"
   ]
  },
  {
   "cell_type": "code",
   "execution_count": 64,
   "metadata": {},
   "outputs": [
    {
     "data": {
      "text/plain": [
       "29"
      ]
     },
     "execution_count": 64,
     "metadata": {},
     "output_type": "execute_result"
    }
   ],
   "source": [
    "phone1df[\"TIME_STAMP\"] = pd.to_datetime(phone1df[\"TIME_STAMP\"])\n",
    "phone1df = phone1df.sort_values(\"TIME_STAMP\")\n",
    "phone1df[\"Experiment\"] = 0\n",
    "phone1df['Experiment'] = (phone1df['TIME_STAMP']\n",
    "                   .transform(lambda x: x.diff().gt('1Sec').cumsum())\n",
    "                )\n",
    "phone1df[\"Experiment\"].max()"
   ]
  },
  {
   "cell_type": "code",
   "execution_count": null,
   "metadata": {},
   "outputs": [],
   "source": []
  }
 ],
 "metadata": {
  "kernelspec": {
   "display_name": "Python 3",
   "language": "python",
   "name": "python3"
  },
  "language_info": {
   "codemirror_mode": {
    "name": "ipython",
    "version": 3
   },
   "file_extension": ".py",
   "mimetype": "text/x-python",
   "name": "python",
   "nbconvert_exporter": "python",
   "pygments_lexer": "ipython3",
   "version": "3.8.10"
  }
 },
 "nbformat": 4,
 "nbformat_minor": 2
}

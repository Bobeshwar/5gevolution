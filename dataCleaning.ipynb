{
 "cells": [
  {
   "cell_type": "code",
   "execution_count": 1,
   "metadata": {},
   "outputs": [],
   "source": [
    "import os\n",
    "import pandas as pd\n",
    "import pickle\n",
    "\n",
    "Phone1Files = []\n",
    "Phone2Files = []\n",
    "NameMapping = dict()\n",
    "for root, dirs, files in os.walk(\"./data\"):\n",
    "    for name in files:\n",
    "        fpath = os.path.join(root, name)\n",
    "        if name.find(\"Phone_1\") != -1:\n",
    "            Phone1Files.append(fpath)\n",
    "        else:\n",
    "            Phone2Files.append(fpath)"
   ]
  },
  {
   "cell_type": "code",
   "execution_count": 32,
   "metadata": {},
   "outputs": [
    {
     "name": "stderr",
     "output_type": "stream",
     "text": [
      "/tmp/ipykernel_468813/2724330227.py:2: DtypeWarning: Columns (186,189,190,197,223,236) have mixed types. Specify dtype option on import or set low_memory=False.\n",
      "  phone1df = pd.read_csv(Phone1Files[i])\n",
      "/tmp/ipykernel_468813/2724330227.py:2: DtypeWarning: Columns (186,189,190,197,223,236,240,243,244,251,276,280,283,284,291,314,317,318,325,338,351,355,358,359,366,388) have mixed types. Specify dtype option on import or set low_memory=False.\n",
      "  phone1df = pd.read_csv(Phone1Files[i])\n",
      "/tmp/ipykernel_468813/2724330227.py:2: DtypeWarning: Columns (29,30,31,100,104,144,145,146,186,189,190,197,223,236,241,248,263,270,285,292,307,314,329) have mixed types. Specify dtype option on import or set low_memory=False.\n",
      "  phone1df = pd.read_csv(Phone1Files[i])\n",
      "/tmp/ipykernel_468813/2724330227.py:2: DtypeWarning: Columns (186,189,190,197,223,236) have mixed types. Specify dtype option on import or set low_memory=False.\n",
      "  phone1df = pd.read_csv(Phone1Files[i])\n",
      "/tmp/ipykernel_468813/2724330227.py:2: DtypeWarning: Columns (95,111,206,209,210,217,243,256) have mixed types. Specify dtype option on import or set low_memory=False.\n",
      "  phone1df = pd.read_csv(Phone1Files[i])\n",
      "/tmp/ipykernel_468813/2724330227.py:2: DtypeWarning: Columns (186,189,190,197,223,236,240,243,244,251,264,277,281,284,285,292,315,318,319,326,351,355,358,359,366,388) have mixed types. Specify dtype option on import or set low_memory=False.\n",
      "  phone1df = pd.read_csv(Phone1Files[i])\n",
      "/tmp/ipykernel_468813/2724330227.py:2: DtypeWarning: Columns (186,189,190,197,223,236) have mixed types. Specify dtype option on import or set low_memory=False.\n",
      "  phone1df = pd.read_csv(Phone1Files[i])\n",
      "/tmp/ipykernel_468813/2724330227.py:2: DtypeWarning: Columns (186,189,190,197,223,236) have mixed types. Specify dtype option on import or set low_memory=False.\n",
      "  phone1df = pd.read_csv(Phone1Files[i])\n",
      "/tmp/ipykernel_468813/2724330227.py:2: DtypeWarning: Columns (29,30,31,100,104,144,145,146,186,189,190,197,223,236,252) have mixed types. Specify dtype option on import or set low_memory=False.\n",
      "  phone1df = pd.read_csv(Phone1Files[i])\n",
      "/tmp/ipykernel_468813/2724330227.py:2: DtypeWarning: Columns (186,189,190,197,223,236) have mixed types. Specify dtype option on import or set low_memory=False.\n",
      "  phone1df = pd.read_csv(Phone1Files[i])\n",
      "/tmp/ipykernel_468813/2724330227.py:2: DtypeWarning: Columns (30,95,111,113,121,122,126,134,162,163,164,171,172,192,199,205,206,213,233,246,251,252,259,275,280,281,288,292,304,305,312,328,333,334,341,357,363,364) have mixed types. Specify dtype option on import or set low_memory=False.\n",
      "  phone1df = pd.read_csv(Phone1Files[i])\n",
      "/tmp/ipykernel_468813/2724330227.py:2: DtypeWarning: Columns (186,189,190,197,223,236) have mixed types. Specify dtype option on import or set low_memory=False.\n",
      "  phone1df = pd.read_csv(Phone1Files[i])\n",
      "/tmp/ipykernel_468813/2724330227.py:2: DtypeWarning: Columns (29,186,189,190,197,223,236,240,243,244,251,264,277,281,284,285,292,305,316,319,320,327,352,356,359,360,367,389) have mixed types. Specify dtype option on import or set low_memory=False.\n",
      "  phone1df = pd.read_csv(Phone1Files[i])\n",
      "/tmp/ipykernel_468813/2724330227.py:2: DtypeWarning: Columns (95,111,113,115,216,219,220,227,253,266) have mixed types. Specify dtype option on import or set low_memory=False.\n",
      "  phone1df = pd.read_csv(Phone1Files[i])\n",
      "/tmp/ipykernel_468813/2724330227.py:2: DtypeWarning: Columns (186,189,190,197,223,236) have mixed types. Specify dtype option on import or set low_memory=False.\n",
      "  phone1df = pd.read_csv(Phone1Files[i])\n",
      "/tmp/ipykernel_468813/2724330227.py:2: DtypeWarning: Columns (186,189,190,197,223,236,241,248,263,270,285,292,307,314) have mixed types. Specify dtype option on import or set low_memory=False.\n",
      "  phone1df = pd.read_csv(Phone1Files[i])\n",
      "/tmp/ipykernel_468813/2724330227.py:2: DtypeWarning: Columns (186,189,190,197,223,236) have mixed types. Specify dtype option on import or set low_memory=False.\n",
      "  phone1df = pd.read_csv(Phone1Files[i])\n",
      "/tmp/ipykernel_468813/2724330227.py:2: DtypeWarning: Columns (29,30,31,56,100,104,144,145,146,186,189,190,197,223,236,252) have mixed types. Specify dtype option on import or set low_memory=False.\n",
      "  phone1df = pd.read_csv(Phone1Files[i])\n",
      "/tmp/ipykernel_468813/2724330227.py:2: DtypeWarning: Columns (29,30,31,144,145,146,186,189,190,197,223,236) have mixed types. Specify dtype option on import or set low_memory=False.\n",
      "  phone1df = pd.read_csv(Phone1Files[i])\n",
      "/tmp/ipykernel_468813/2724330227.py:2: DtypeWarning: Columns (29,30,31,144,145,146,186,189,190,197,223,236,240,243,244,251,273,277,280,281,288,308,311,312,319,329,342,346,349,350,357,379) have mixed types. Specify dtype option on import or set low_memory=False.\n",
      "  phone1df = pd.read_csv(Phone1Files[i])\n",
      "/tmp/ipykernel_468813/2724330227.py:2: DtypeWarning: Columns (79,95,98,106,122,216,217,224,244,257,262,269,278,285,294,301,310,317) have mixed types. Specify dtype option on import or set low_memory=False.\n",
      "  phone1df = pd.read_csv(Phone1Files[i])\n",
      "/tmp/ipykernel_468813/2724330227.py:2: DtypeWarning: Columns (186,189,190,197,223,236) have mixed types. Specify dtype option on import or set low_memory=False.\n",
      "  phone1df = pd.read_csv(Phone1Files[i])\n",
      "/tmp/ipykernel_468813/2724330227.py:2: DtypeWarning: Columns (169,197,210,215,222,231,238,247,254,263,270) have mixed types. Specify dtype option on import or set low_memory=False.\n",
      "  phone1df = pd.read_csv(Phone1Files[i])\n",
      "/tmp/ipykernel_468813/2724330227.py:2: DtypeWarning: Columns (186,189,190,197,223,236,240,243,244,251,276,280,283,284,291,314,317,318,325,350,354,357,358,365,387) have mixed types. Specify dtype option on import or set low_memory=False.\n",
      "  phone1df = pd.read_csv(Phone1Files[i])\n",
      "/tmp/ipykernel_468813/2724330227.py:2: DtypeWarning: Columns (29,144,145,146,186,189,190,197,223,236,240,243,244,251,276,280,283,284,291,314,317,318,325,350,354,357,358,365,387) have mixed types. Specify dtype option on import or set low_memory=False.\n",
      "  phone1df = pd.read_csv(Phone1Files[i])\n",
      "/tmp/ipykernel_468813/2724330227.py:2: DtypeWarning: Columns (169,170,177,197,210,215,222,228,235,241,248,254,261) have mixed types. Specify dtype option on import or set low_memory=False.\n",
      "  phone1df = pd.read_csv(Phone1Files[i])\n",
      "/tmp/ipykernel_468813/2724330227.py:2: DtypeWarning: Columns (186,189,190,197,223,236) have mixed types. Specify dtype option on import or set low_memory=False.\n",
      "  phone1df = pd.read_csv(Phone1Files[i])\n",
      "/tmp/ipykernel_468813/2724330227.py:2: DtypeWarning: Columns (29,30,31,144,145,146,186,189,190,197,223,236,240,243,244,251,276,280,283,284,291,314,317,318,325,350,354,357,358,365,387) have mixed types. Specify dtype option on import or set low_memory=False.\n",
      "  phone1df = pd.read_csv(Phone1Files[i])\n",
      "/tmp/ipykernel_468813/2724330227.py:2: DtypeWarning: Columns (29,30,31,100,104,144,145,146,186,189,190,197,223,236,252) have mixed types. Specify dtype option on import or set low_memory=False.\n",
      "  phone1df = pd.read_csv(Phone1Files[i])\n",
      "/tmp/ipykernel_468813/2724330227.py:2: DtypeWarning: Columns (186,189,190,197,223,236) have mixed types. Specify dtype option on import or set low_memory=False.\n",
      "  phone1df = pd.read_csv(Phone1Files[i])\n",
      "/tmp/ipykernel_468813/2724330227.py:2: DtypeWarning: Columns (29,30,31,100,104,144,145,146,186,189,190,197,223,236,252) have mixed types. Specify dtype option on import or set low_memory=False.\n",
      "  phone1df = pd.read_csv(Phone1Files[i])\n",
      "/tmp/ipykernel_468813/2724330227.py:2: DtypeWarning: Columns (29,95,111,113,115,215,218,219,226,252,265) have mixed types. Specify dtype option on import or set low_memory=False.\n",
      "  phone1df = pd.read_csv(Phone1Files[i])\n",
      "/tmp/ipykernel_468813/2724330227.py:2: DtypeWarning: Columns (29,30,31,100,104,144,145,146,153,174,186,189,190,197,223,236,250,252) have mixed types. Specify dtype option on import or set low_memory=False.\n",
      "  phone1df = pd.read_csv(Phone1Files[i])\n",
      "/tmp/ipykernel_468813/2724330227.py:2: DtypeWarning: Columns (30,144,145,146,186,189,190,197,223,236,241,248,263,270,285,292) have mixed types. Specify dtype option on import or set low_memory=False.\n",
      "  phone1df = pd.read_csv(Phone1Files[i])\n",
      "/tmp/ipykernel_468813/2724330227.py:2: DtypeWarning: Columns (186,189,190,197,223,236,240,243,244,251,264,277,281,284,285,292,305,316,319,320,327,340,353,357,360,361,368,378,391) have mixed types. Specify dtype option on import or set low_memory=False.\n",
      "  phone1df = pd.read_csv(Phone1Files[i])\n",
      "/tmp/ipykernel_468813/2724330227.py:2: DtypeWarning: Columns (95,111,113,115,219,253,266,271,272,279,304,309,310,317,341,342,349,374,379,380,387,409) have mixed types. Specify dtype option on import or set low_memory=False.\n",
      "  phone1df = pd.read_csv(Phone1Files[i])\n",
      "/tmp/ipykernel_468813/2724330227.py:2: DtypeWarning: Columns (29,30,144,145,146,186,189,190,197,223,236,240,243,250,264,267,274,288,291,298,312,315,322) have mixed types. Specify dtype option on import or set low_memory=False.\n",
      "  phone1df = pd.read_csv(Phone1Files[i])\n",
      "/tmp/ipykernel_468813/2724330227.py:2: DtypeWarning: Columns (186,189,190,197,223,236,240,243,250,255,258,265,270,273,280,285,288) have mixed types. Specify dtype option on import or set low_memory=False.\n",
      "  phone1df = pd.read_csv(Phone1Files[i])\n",
      "/tmp/ipykernel_468813/2724330227.py:2: DtypeWarning: Columns (186,189,190,197,223,236) have mixed types. Specify dtype option on import or set low_memory=False.\n",
      "  phone1df = pd.read_csv(Phone1Files[i])\n",
      "/tmp/ipykernel_468813/2724330227.py:2: DtypeWarning: Columns (29,30,144,145,146,186,189,190,197,223,236,240,243,250,264,267,274,288,291,298,312,315,322) have mixed types. Specify dtype option on import or set low_memory=False.\n",
      "  phone1df = pd.read_csv(Phone1Files[i])\n",
      "/tmp/ipykernel_468813/2724330227.py:2: DtypeWarning: Columns (186,189,190,197,223,236,240,243,250,264,267,274,288,291,298,312,315,322) have mixed types. Specify dtype option on import or set low_memory=False.\n",
      "  phone1df = pd.read_csv(Phone1Files[i])\n",
      "/tmp/ipykernel_468813/2724330227.py:2: DtypeWarning: Columns (186,189,190,197,223,236) have mixed types. Specify dtype option on import or set low_memory=False.\n",
      "  phone1df = pd.read_csv(Phone1Files[i])\n",
      "/tmp/ipykernel_468813/2724330227.py:2: DtypeWarning: Columns (186,189,190,197,223,236) have mixed types. Specify dtype option on import or set low_memory=False.\n",
      "  phone1df = pd.read_csv(Phone1Files[i])\n",
      "/tmp/ipykernel_468813/2724330227.py:2: DtypeWarning: Columns (23,26,89,97,98,102,110,144,145,146,153,154,174,181,187,188,195,224,225,245,252,258,265) have mixed types. Specify dtype option on import or set low_memory=False.\n",
      "  phone1df = pd.read_csv(Phone1Files[i])\n",
      "/tmp/ipykernel_468813/2724330227.py:2: DtypeWarning: Columns (95,111,113,115,124,140,235,238,239,246,272,285) have mixed types. Specify dtype option on import or set low_memory=False.\n",
      "  phone1df = pd.read_csv(Phone1Files[i])\n",
      "/tmp/ipykernel_468813/2724330227.py:2: DtypeWarning: Columns (29,30,31,144,145,146,186,189,190,197,223,236,240,243,244,251,264,277,281,284,285,292,305,316,319,320,327,352,356,359,360,367,389) have mixed types. Specify dtype option on import or set low_memory=False.\n",
      "  phone1df = pd.read_csv(Phone1Files[i])\n",
      "/tmp/ipykernel_468813/2724330227.py:2: DtypeWarning: Columns (186,189,190,197,223,236) have mixed types. Specify dtype option on import or set low_memory=False.\n",
      "  phone1df = pd.read_csv(Phone1Files[i])\n",
      "/tmp/ipykernel_468813/2724330227.py:2: DtypeWarning: Columns (29,144,145,146,186,189,190,197,223,236) have mixed types. Specify dtype option on import or set low_memory=False.\n",
      "  phone1df = pd.read_csv(Phone1Files[i])\n",
      "/tmp/ipykernel_468813/2724330227.py:2: DtypeWarning: Columns (186,189,190,197,223,236) have mixed types. Specify dtype option on import or set low_memory=False.\n",
      "  phone1df = pd.read_csv(Phone1Files[i])\n",
      "/tmp/ipykernel_468813/2724330227.py:2: DtypeWarning: Columns (186,189,190,197,223,236) have mixed types. Specify dtype option on import or set low_memory=False.\n",
      "  phone1df = pd.read_csv(Phone1Files[i])\n",
      "/tmp/ipykernel_468813/2724330227.py:2: DtypeWarning: Columns (29,30,31,144,145,146,186,189,190,197,223,236) have mixed types. Specify dtype option on import or set low_memory=False.\n",
      "  phone1df = pd.read_csv(Phone1Files[i])\n",
      "/tmp/ipykernel_468813/2724330227.py:2: DtypeWarning: Columns (186,189,190,197,223,236) have mixed types. Specify dtype option on import or set low_memory=False.\n",
      "  phone1df = pd.read_csv(Phone1Files[i])\n",
      "/tmp/ipykernel_468813/2724330227.py:2: DtypeWarning: Columns (29,30,31,144,145,146,186,189,190,197,223,236,240,243,250,261,264,271,279,282,289,297,300,307) have mixed types. Specify dtype option on import or set low_memory=False.\n",
      "  phone1df = pd.read_csv(Phone1Files[i])\n"
     ]
    }
   ],
   "source": [
    "\n",
    "for i in range(len(Phone1Files)):\n",
    "    phone1df = pd.read_csv(Phone1Files[i])\n",
    "    phone1df.drop(phone1df.tail(8).index, inplace=True) #Removing aggregate Statistics\n",
    "    phone1df = phone1df.filter([\"TIME_STAMP\", \"Event Technology\",\"5G KPI PCell RF Frequency [MHz]\",\"LTE KPI PCell Serving EARFCN(DL)\",\"Experiment\",\"Smart Phone Smart Throughput Mobile Network UL Throughput [Mbps]\"])\n",
    "    phone1df[\"TIME_STAMP\"] = pd.to_datetime(phone1df[\"TIME_STAMP\"])\n",
    "    phone1df = phone1df.sort_values(\"TIME_STAMP\")\n",
    "    phone1df[\"Experiment\"] = 0\n",
    "    phone1df['Experiment'] = (phone1df['TIME_STAMP']\n",
    "                    .transform(lambda x: x.diff().gt('1Sec').cumsum())\n",
    "                    )\n",
    "    if phone1df[\"Experiment\"].max() > 29 and i != 12 and i != 31:\n",
    "        print(i)\n",
    "        break\n"
   ]
  },
  {
   "cell_type": "code",
   "execution_count": 31,
   "metadata": {},
   "outputs": [
    {
     "name": "stdout",
     "output_type": "stream",
     "text": [
      "./data/09_04/09_04_Phone_1.csv\n",
      "2022-09-04 19:44:59\n",
      "2022-09-04 19:45:05\n"
     ]
    },
    {
     "name": "stderr",
     "output_type": "stream",
     "text": [
      "/tmp/ipykernel_468813/2297164872.py:2: DtypeWarning: Columns (186,189,190,197,223,236) have mixed types. Specify dtype option on import or set low_memory=False.\n",
      "  phone1df = pd.read_csv(Phone1Files[i])\n"
     ]
    }
   ],
   "source": [
    "print(Phone1Files[48])\n",
    "phone1df = pd.read_csv(Phone1Files[i])\n",
    "phone1df.drop(phone1df.tail(8).index, inplace=True) #Removing aggregate Statistics\n",
    "phone1df = phone1df.filter([\"TIME_STAMP\", \"Event Technology\",\"5G KPI PCell RF Frequency [MHz]\",\"LTE KPI PCell Serving EARFCN(DL)\",\"Experiment\",\"Smart Phone Smart Throughput Mobile Network UL Throughput [Mbps]\"])\n",
    "phone1df[\"TIME_STAMP\"] = pd.to_datetime(phone1df[\"TIME_STAMP\"])\n",
    "phone1df = phone1df.sort_values(\"TIME_STAMP\")\n",
    "phone1df[\"Experiment\"] = 0\n",
    "phone1df['Experiment'] = (phone1df['TIME_STAMP']\n",
    "                .transform(lambda x: x.diff().gt('1Sec').cumsum())\n",
    "                )\n",
    "phone1df.groupby(\"Experiment\")[\"Experiment\"].count()\n",
    "\n",
    "phone1df = phone1df[phone1df[\"Experiment\"] == 25]\n",
    "print(min(phone1df.TIME_STAMP))\n",
    "print(max(phone1df.TIME_STAMP))"
   ]
  },
  {
   "cell_type": "code",
   "execution_count": 14,
   "metadata": {},
   "outputs": [
    {
     "name": "stderr",
     "output_type": "stream",
     "text": [
      "/tmp/ipykernel_468813/3153462828.py:2: DtypeWarning: Columns (30,95,111,113,121,122,126,134,162,163,164,171,172,192,199,205,206,213,233,246,251,252,259,275,280,281,288,292,304,305,312,328,333,334,341,357,363,364) have mixed types. Specify dtype option on import or set low_memory=False.\n",
      "  phone1df = pd.read_csv(Phone1Files[i])\n"
     ]
    },
    {
     "data": {
      "text/plain": [
       "29"
      ]
     },
     "execution_count": 14,
     "metadata": {},
     "output_type": "execute_result"
    }
   ],
   "source": [
    "Phone1Files[10]\n",
    "phone1df = pd.read_csv(Phone1Files[i])\n",
    "phone1df.drop(phone1df.tail(8).index, inplace=True) #Removing aggregate Statistics\n",
    "phone1df = phone1df.filter([\"TIME_STAMP\", \"Event Technology\",\"5G KPI PCell RF Frequency [MHz]\",\"LTE KPI PCell Serving EARFCN(DL)\",\"Experiment\",\"Smart Phone Smart Throughput Mobile Network UL Throughput [Mbps]\"])\n",
    "phone1df[\"TIME_STAMP\"] = pd.to_datetime(phone1df[\"TIME_STAMP\"])\n",
    "phone1df = phone1df.sort_values(\"TIME_STAMP\")\n",
    "phone1df[\"Experiment\"] = 0\n",
    "phone1df['Experiment'] = (phone1df['TIME_STAMP']\n",
    "                .transform(lambda x: x.diff().gt('1Sec').cumsum())\n",
    "                )\n",
    "phone1df[\"Experiment\"].max()"
   ]
  },
  {
   "cell_type": "code",
   "execution_count": 33,
   "metadata": {},
   "outputs": [
    {
     "name": "stdout",
     "output_type": "stream",
     "text": [
      "./data/23_07_05/23_07_05_Phone_1.csv\n"
     ]
    }
   ],
   "source": [
    "print(Phone1Files[31])"
   ]
  },
  {
   "cell_type": "code",
   "execution_count": null,
   "metadata": {},
   "outputs": [],
   "source": []
  }
 ],
 "metadata": {
  "kernelspec": {
   "display_name": "Python 3",
   "language": "python",
   "name": "python3"
  },
  "language_info": {
   "codemirror_mode": {
    "name": "ipython",
    "version": 3
   },
   "file_extension": ".py",
   "mimetype": "text/x-python",
   "name": "python",
   "nbconvert_exporter": "python",
   "pygments_lexer": "ipython3",
   "version": "3.8.10"
  }
 },
 "nbformat": 4,
 "nbformat_minor": 2
}
